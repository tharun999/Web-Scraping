{
 "cells": [
  {
   "cell_type": "code",
   "execution_count": 1,
   "metadata": {},
   "outputs": [],
   "source": [
    "from bs4 import BeautifulSoup\n",
    "import pandas as pd\n",
    "import requests"
   ]
  },
  {
   "cell_type": "code",
   "execution_count": 2,
   "metadata": {},
   "outputs": [],
   "source": [
    "url=\"https://www.imdb.com/chart/top/?ref_=nv_mv_250\"\n",
    "r=requests.get(url)"
   ]
  },
  {
   "cell_type": "code",
   "execution_count": 3,
   "metadata": {},
   "outputs": [],
   "source": [
    "html=r.text\n",
    "soup=BeautifulSoup(html,\"html.parser\")"
   ]
  },
  {
   "cell_type": "code",
   "execution_count": 4,
   "metadata": {},
   "outputs": [
    {
     "name": "stdout",
     "output_type": "stream",
     "text": [
      "IMDb Top 250 - IMDb\n"
     ]
    }
   ],
   "source": [
    "print(soup.title.text)"
   ]
  },
  {
   "cell_type": "code",
   "execution_count": 5,
   "metadata": {},
   "outputs": [],
   "source": [
    "data=soup.find_all('tbody',{\"class\":\"lister-list\"})"
   ]
  },
  {
   "cell_type": "code",
   "execution_count": 7,
   "metadata": {},
   "outputs": [],
   "source": [
    "table_body=soup.find('tbody')\n",
    "table_rows=table_body.find_all(\"tr\")\n",
    "\n"
   ]
  },
  {
   "cell_type": "code",
   "execution_count": 8,
   "metadata": {},
   "outputs": [],
   "source": [
    "Rank=[]\n",
    "Title=[]\n",
    "Rating=[]\n",
    "for tr in table_rows:\n",
    "    td=tr.find_all('td')\n",
    "    Rank.append(td[0].text)\n",
    "    Title.append(td[1].text)\n",
    "    Rating.append(td[2].text)\n",
    "    \n",
    "    \n",
    "\n",
    "headers=[\"Rank\",\"Title\",\"Rating\"]"
   ]
  },
  {
   "cell_type": "code",
   "execution_count": 9,
   "metadata": {},
   "outputs": [],
   "source": [
    "df=pd.DataFrame(list(zip(Rank,Title,Rating)),columns=headers)"
   ]
  },
  {
   "cell_type": "code",
   "execution_count": 10,
   "metadata": {},
   "outputs": [
    {
     "data": {
      "text/html": [
       "<div>\n",
       "<style scoped>\n",
       "    .dataframe tbody tr th:only-of-type {\n",
       "        vertical-align: middle;\n",
       "    }\n",
       "\n",
       "    .dataframe tbody tr th {\n",
       "        vertical-align: top;\n",
       "    }\n",
       "\n",
       "    .dataframe thead th {\n",
       "        text-align: right;\n",
       "    }\n",
       "</style>\n",
       "<table border=\"1\" class=\"dataframe\">\n",
       "  <thead>\n",
       "    <tr style=\"text-align: right;\">\n",
       "      <th></th>\n",
       "      <th>Rank</th>\n",
       "      <th>Title</th>\n",
       "      <th>Rating</th>\n",
       "      <th>new_Rating</th>\n",
       "    </tr>\n",
       "  </thead>\n",
       "  <tbody>\n",
       "    <tr>\n",
       "      <th>0</th>\n",
       "      <td>\\n\\n\\n\\n\\n\\n \\n</td>\n",
       "      <td>\\n      1.\\n      The Shawshank Redemption\\n(1...</td>\n",
       "      <td>\\n9.2\\n</td>\n",
       "      <td>9.2</td>\n",
       "    </tr>\n",
       "    <tr>\n",
       "      <th>1</th>\n",
       "      <td>\\n\\n\\n\\n\\n\\n \\n</td>\n",
       "      <td>\\n      2.\\n      The Godfather\\n(1972)\\n</td>\n",
       "      <td>\\n9.1\\n</td>\n",
       "      <td>9.1</td>\n",
       "    </tr>\n",
       "    <tr>\n",
       "      <th>2</th>\n",
       "      <td>\\n\\n\\n\\n\\n\\n \\n</td>\n",
       "      <td>\\n      3.\\n      The Godfather: Part II\\n(197...</td>\n",
       "      <td>\\n9.0\\n</td>\n",
       "      <td>9.0</td>\n",
       "    </tr>\n",
       "    <tr>\n",
       "      <th>3</th>\n",
       "      <td>\\n\\n\\n\\n\\n\\n \\n</td>\n",
       "      <td>\\n      4.\\n      The Dark Knight\\n(2008)\\n</td>\n",
       "      <td>\\n9.0\\n</td>\n",
       "      <td>9.0</td>\n",
       "    </tr>\n",
       "    <tr>\n",
       "      <th>4</th>\n",
       "      <td>\\n\\n\\n\\n\\n\\n \\n</td>\n",
       "      <td>\\n      5.\\n      12 Angry Men\\n(1957)\\n</td>\n",
       "      <td>\\n8.9\\n</td>\n",
       "      <td>8.9</td>\n",
       "    </tr>\n",
       "  </tbody>\n",
       "</table>\n",
       "</div>"
      ],
      "text/plain": [
       "               Rank                                              Title  \\\n",
       "0  \\n\\n\\n\\n\\n\\n \\n   \\n      1.\\n      The Shawshank Redemption\\n(1...   \n",
       "1  \\n\\n\\n\\n\\n\\n \\n           \\n      2.\\n      The Godfather\\n(1972)\\n   \n",
       "2  \\n\\n\\n\\n\\n\\n \\n   \\n      3.\\n      The Godfather: Part II\\n(197...   \n",
       "3  \\n\\n\\n\\n\\n\\n \\n         \\n      4.\\n      The Dark Knight\\n(2008)\\n   \n",
       "4  \\n\\n\\n\\n\\n\\n \\n            \\n      5.\\n      12 Angry Men\\n(1957)\\n   \n",
       "\n",
       "    Rating new_Rating  \n",
       "0  \\n9.2\\n      \n",
       "9.2\n",
       "  \n",
       "1  \\n9.1\\n      \n",
       "9.1\n",
       "  \n",
       "2  \\n9.0\\n      \n",
       "9.0\n",
       "  \n",
       "3  \\n9.0\\n      \n",
       "9.0\n",
       "  \n",
       "4  \\n8.9\\n      \n",
       "8.9\n",
       "  "
      ]
     },
     "execution_count": 10,
     "metadata": {},
     "output_type": "execute_result"
    }
   ],
   "source": [
    "rate=df.Rating.astype(\"string\")\n",
    "df[\"new_Rating\"]=rate\n",
    "df.head()"
   ]
  },
  {
   "cell_type": "code",
   "execution_count": 11,
   "metadata": {},
   "outputs": [
    {
     "data": {
      "text/html": [
       "<div>\n",
       "<style scoped>\n",
       "    .dataframe tbody tr th:only-of-type {\n",
       "        vertical-align: middle;\n",
       "    }\n",
       "\n",
       "    .dataframe tbody tr th {\n",
       "        vertical-align: top;\n",
       "    }\n",
       "\n",
       "    .dataframe thead th {\n",
       "        text-align: right;\n",
       "    }\n",
       "</style>\n",
       "<table border=\"1\" class=\"dataframe\">\n",
       "  <thead>\n",
       "    <tr style=\"text-align: right;\">\n",
       "      <th></th>\n",
       "      <th>Rank</th>\n",
       "      <th>Title</th>\n",
       "      <th>Rating</th>\n",
       "      <th>new_Rating</th>\n",
       "      <th>new_Title</th>\n",
       "    </tr>\n",
       "  </thead>\n",
       "  <tbody>\n",
       "    <tr>\n",
       "      <th>0</th>\n",
       "      <td>\\n\\n\\n\\n\\n\\n \\n</td>\n",
       "      <td>\\n      1.\\n      The Shawshank Redemption\\n(1...</td>\n",
       "      <td>\\n9.2\\n</td>\n",
       "      <td>9.2</td>\n",
       "      <td>1.\n",
       "      The Shawshank Redemption\n",
       "(1994)</td>\n",
       "    </tr>\n",
       "    <tr>\n",
       "      <th>1</th>\n",
       "      <td>\\n\\n\\n\\n\\n\\n \\n</td>\n",
       "      <td>\\n      2.\\n      The Godfather\\n(1972)\\n</td>\n",
       "      <td>\\n9.1\\n</td>\n",
       "      <td>9.1</td>\n",
       "      <td>2.\n",
       "      The Godfather\n",
       "(1972)</td>\n",
       "    </tr>\n",
       "    <tr>\n",
       "      <th>2</th>\n",
       "      <td>\\n\\n\\n\\n\\n\\n \\n</td>\n",
       "      <td>\\n      3.\\n      The Godfather: Part II\\n(197...</td>\n",
       "      <td>\\n9.0\\n</td>\n",
       "      <td>9.0</td>\n",
       "      <td>3.\n",
       "      The Godfather: Part II\n",
       "(1974)</td>\n",
       "    </tr>\n",
       "    <tr>\n",
       "      <th>3</th>\n",
       "      <td>\\n\\n\\n\\n\\n\\n \\n</td>\n",
       "      <td>\\n      4.\\n      The Dark Knight\\n(2008)\\n</td>\n",
       "      <td>\\n9.0\\n</td>\n",
       "      <td>9.0</td>\n",
       "      <td>4.\n",
       "      The Dark Knight\n",
       "(2008)</td>\n",
       "    </tr>\n",
       "    <tr>\n",
       "      <th>4</th>\n",
       "      <td>\\n\\n\\n\\n\\n\\n \\n</td>\n",
       "      <td>\\n      5.\\n      12 Angry Men\\n(1957)\\n</td>\n",
       "      <td>\\n8.9\\n</td>\n",
       "      <td>8.9</td>\n",
       "      <td>5.\n",
       "      12 Angry Men\n",
       "(1957)</td>\n",
       "    </tr>\n",
       "  </tbody>\n",
       "</table>\n",
       "</div>"
      ],
      "text/plain": [
       "               Rank                                              Title  \\\n",
       "0  \\n\\n\\n\\n\\n\\n \\n   \\n      1.\\n      The Shawshank Redemption\\n(1...   \n",
       "1  \\n\\n\\n\\n\\n\\n \\n           \\n      2.\\n      The Godfather\\n(1972)\\n   \n",
       "2  \\n\\n\\n\\n\\n\\n \\n   \\n      3.\\n      The Godfather: Part II\\n(197...   \n",
       "3  \\n\\n\\n\\n\\n\\n \\n         \\n      4.\\n      The Dark Knight\\n(2008)\\n   \n",
       "4  \\n\\n\\n\\n\\n\\n \\n            \\n      5.\\n      12 Angry Men\\n(1957)\\n   \n",
       "\n",
       "    Rating new_Rating                                         new_Title  \n",
       "0  \\n9.2\\n      \n",
       "9.2\n",
       "  \n",
       "      1.\n",
       "      The Shawshank Redemption\n",
       "(1994)\n",
       "  \n",
       "1  \\n9.1\\n      \n",
       "9.1\n",
       "             \n",
       "      2.\n",
       "      The Godfather\n",
       "(1972)\n",
       "  \n",
       "2  \\n9.0\\n      \n",
       "9.0\n",
       "    \n",
       "      3.\n",
       "      The Godfather: Part II\n",
       "(1974)\n",
       "  \n",
       "3  \\n9.0\\n      \n",
       "9.0\n",
       "           \n",
       "      4.\n",
       "      The Dark Knight\n",
       "(2008)\n",
       "  \n",
       "4  \\n8.9\\n      \n",
       "8.9\n",
       "              \n",
       "      5.\n",
       "      12 Angry Men\n",
       "(1957)\n",
       "  "
      ]
     },
     "execution_count": 11,
     "metadata": {},
     "output_type": "execute_result"
    }
   ],
   "source": [
    "Title=df.Title.astype(\"string\")\n",
    "df[\"new_Title\"]=Title\n",
    "df.head()"
   ]
  },
  {
   "cell_type": "code",
   "execution_count": 12,
   "metadata": {},
   "outputs": [],
   "source": [
    "df=df.drop([\"Rank\",\"Title\",\"Rating\"],axis=1)\n"
   ]
  },
  {
   "cell_type": "code",
   "execution_count": 13,
   "metadata": {},
   "outputs": [],
   "source": [
    "x=[]\n",
    "for i in range(0,250):\n",
    "    x.append(i)\n",
    "    "
   ]
  },
  {
   "cell_type": "code",
   "execution_count": 14,
   "metadata": {},
   "outputs": [
    {
     "data": {
      "text/plain": [
       "250"
      ]
     },
     "execution_count": 14,
     "metadata": {},
     "output_type": "execute_result"
    }
   ],
   "source": [
    "df[\"Rank\"]=x\n",
    "len(df)\n",
    "len(x)"
   ]
  },
  {
   "cell_type": "code",
   "execution_count": 15,
   "metadata": {},
   "outputs": [],
   "source": [
    "df['new_Title'] = df['new_Title'].str.replace('\\d+', '')\n",
    "\n"
   ]
  },
  {
   "cell_type": "code",
   "execution_count": 16,
   "metadata": {},
   "outputs": [
    {
     "data": {
      "text/html": [
       "<div>\n",
       "<style scoped>\n",
       "    .dataframe tbody tr th:only-of-type {\n",
       "        vertical-align: middle;\n",
       "    }\n",
       "\n",
       "    .dataframe tbody tr th {\n",
       "        vertical-align: top;\n",
       "    }\n",
       "\n",
       "    .dataframe thead th {\n",
       "        text-align: right;\n",
       "    }\n",
       "</style>\n",
       "<table border=\"1\" class=\"dataframe\">\n",
       "  <thead>\n",
       "    <tr style=\"text-align: right;\">\n",
       "      <th></th>\n",
       "      <th>new_Rating</th>\n",
       "      <th>new_Title</th>\n",
       "      <th>Rank</th>\n",
       "    </tr>\n",
       "  </thead>\n",
       "  <tbody>\n",
       "    <tr>\n",
       "      <th>0</th>\n",
       "      <td>9.2</td>\n",
       "      <td>The Shawshank Redemption\n",
       "()</td>\n",
       "      <td>0</td>\n",
       "    </tr>\n",
       "    <tr>\n",
       "      <th>1</th>\n",
       "      <td>9.1</td>\n",
       "      <td>The Godfather\n",
       "()</td>\n",
       "      <td>1</td>\n",
       "    </tr>\n",
       "    <tr>\n",
       "      <th>2</th>\n",
       "      <td>9.0</td>\n",
       "      <td>The Godfather: Part II\n",
       "()</td>\n",
       "      <td>2</td>\n",
       "    </tr>\n",
       "    <tr>\n",
       "      <th>3</th>\n",
       "      <td>9.0</td>\n",
       "      <td>The Dark Knight\n",
       "()</td>\n",
       "      <td>3</td>\n",
       "    </tr>\n",
       "    <tr>\n",
       "      <th>4</th>\n",
       "      <td>8.9</td>\n",
       "      <td>Angry Men\n",
       "()</td>\n",
       "      <td>4</td>\n",
       "    </tr>\n",
       "  </tbody>\n",
       "</table>\n",
       "</div>"
      ],
      "text/plain": [
       "  new_Rating                                   new_Title  Rank\n",
       "0      \n",
       "9.2\n",
       "  \n",
       "      \n",
       "      The Shawshank Redemption\n",
       "()\n",
       "     0\n",
       "1      \n",
       "9.1\n",
       "             \n",
       "      \n",
       "      The Godfather\n",
       "()\n",
       "     1\n",
       "2      \n",
       "9.0\n",
       "    \n",
       "      \n",
       "      The Godfather: Part II\n",
       "()\n",
       "     2\n",
       "3      \n",
       "9.0\n",
       "           \n",
       "      \n",
       "      The Dark Knight\n",
       "()\n",
       "     3\n",
       "4      \n",
       "8.9\n",
       "                \n",
       "      \n",
       "       Angry Men\n",
       "()\n",
       "     4"
      ]
     },
     "execution_count": 16,
     "metadata": {},
     "output_type": "execute_result"
    }
   ],
   "source": [
    "df['new_Title'] = df['new_Title'].str.replace('\\.', '')\n",
    "df.head()"
   ]
  },
  {
   "cell_type": "code",
   "execution_count": 17,
   "metadata": {},
   "outputs": [],
   "source": [
    "df['new_Title'] = df['new_Title'].str.replace(r\"\\s*\\([^()]*\\)\",\"\").str.strip()"
   ]
  },
  {
   "cell_type": "code",
   "execution_count": 18,
   "metadata": {},
   "outputs": [],
   "source": [
    "import seaborn as sns"
   ]
  },
  {
   "cell_type": "code",
   "execution_count": 19,
   "metadata": {},
   "outputs": [
    {
     "data": {
      "text/html": [
       "<div>\n",
       "<style scoped>\n",
       "    .dataframe tbody tr th:only-of-type {\n",
       "        vertical-align: middle;\n",
       "    }\n",
       "\n",
       "    .dataframe tbody tr th {\n",
       "        vertical-align: top;\n",
       "    }\n",
       "\n",
       "    .dataframe thead th {\n",
       "        text-align: right;\n",
       "    }\n",
       "</style>\n",
       "<table border=\"1\" class=\"dataframe\">\n",
       "  <thead>\n",
       "    <tr style=\"text-align: right;\">\n",
       "      <th></th>\n",
       "      <th>new_Rating</th>\n",
       "      <th>new_Title</th>\n",
       "      <th>Rank</th>\n",
       "    </tr>\n",
       "  </thead>\n",
       "  <tbody>\n",
       "    <tr>\n",
       "      <th>0</th>\n",
       "      <td>9.2</td>\n",
       "      <td>The Shawshank Redemption</td>\n",
       "      <td>0</td>\n",
       "    </tr>\n",
       "    <tr>\n",
       "      <th>1</th>\n",
       "      <td>9.1</td>\n",
       "      <td>The Godfather</td>\n",
       "      <td>1</td>\n",
       "    </tr>\n",
       "    <tr>\n",
       "      <th>2</th>\n",
       "      <td>9.0</td>\n",
       "      <td>The Godfather: Part II</td>\n",
       "      <td>2</td>\n",
       "    </tr>\n",
       "    <tr>\n",
       "      <th>3</th>\n",
       "      <td>9.0</td>\n",
       "      <td>The Dark Knight</td>\n",
       "      <td>3</td>\n",
       "    </tr>\n",
       "    <tr>\n",
       "      <th>4</th>\n",
       "      <td>8.9</td>\n",
       "      <td>Angry Men</td>\n",
       "      <td>4</td>\n",
       "    </tr>\n",
       "  </tbody>\n",
       "</table>\n",
       "</div>"
      ],
      "text/plain": [
       "  new_Rating                 new_Title  Rank\n",
       "0      \n",
       "9.2\n",
       "  The Shawshank Redemption     0\n",
       "1      \n",
       "9.1\n",
       "             The Godfather     1\n",
       "2      \n",
       "9.0\n",
       "    The Godfather: Part II     2\n",
       "3      \n",
       "9.0\n",
       "           The Dark Knight     3\n",
       "4      \n",
       "8.9\n",
       "                 Angry Men     4"
      ]
     },
     "execution_count": 19,
     "metadata": {},
     "output_type": "execute_result"
    }
   ],
   "source": [
    "df.head()"
   ]
  },
  {
   "cell_type": "code",
   "execution_count": 20,
   "metadata": {},
   "outputs": [
    {
     "data": {
      "text/plain": [
       "<matplotlib.axes._subplots.AxesSubplot at 0x2aa9c8152c8>"
      ]
     },
     "execution_count": 20,
     "metadata": {},
     "output_type": "execute_result"
    },
    {
     "data": {
      "image/png": "[encoded data removed]",
      "text/plain": [
       "<Figure size 432x288 with 1 Axes>"
      ]
     },
     "metadata": {
      "needs_background": "light"
     },
     "output_type": "display_data"
    }
   ],
   "source": [
    "sns.countplot(df[\"new_Rating\"])"
   ]
  },
  {
   "cell_type": "code",
   "execution_count": 21,
   "metadata": {},
   "outputs": [
    {
     "data": {
      "text/html": [
       "<div>\n",
       "<style scoped>\n",
       "    .dataframe tbody tr th:only-of-type {\n",
       "        vertical-align: middle;\n",
       "    }\n",
       "\n",
       "    .dataframe tbody tr th {\n",
       "        vertical-align: top;\n",
       "    }\n",
       "\n",
       "    .dataframe thead th {\n",
       "        text-align: right;\n",
       "    }\n",
       "</style>\n",
       "<table border=\"1\" class=\"dataframe\">\n",
       "  <thead>\n",
       "    <tr style=\"text-align: right;\">\n",
       "      <th></th>\n",
       "      <th>new_Rating</th>\n",
       "      <th>new_Title</th>\n",
       "      <th>Rank</th>\n",
       "    </tr>\n",
       "  </thead>\n",
       "  <tbody>\n",
       "    <tr>\n",
       "      <th>0</th>\n",
       "      <td>9.2</td>\n",
       "      <td>The Shawshank Redemption</td>\n",
       "      <td>0</td>\n",
       "    </tr>\n",
       "    <tr>\n",
       "      <th>1</th>\n",
       "      <td>9.1</td>\n",
       "      <td>The Godfather</td>\n",
       "      <td>1</td>\n",
       "    </tr>\n",
       "    <tr>\n",
       "      <th>2</th>\n",
       "      <td>9.0</td>\n",
       "      <td>The Godfather: Part II</td>\n",
       "      <td>2</td>\n",
       "    </tr>\n",
       "    <tr>\n",
       "      <th>3</th>\n",
       "      <td>9.0</td>\n",
       "      <td>The Dark Knight</td>\n",
       "      <td>3</td>\n",
       "    </tr>\n",
       "    <tr>\n",
       "      <th>4</th>\n",
       "      <td>8.9</td>\n",
       "      <td>Angry Men</td>\n",
       "      <td>4</td>\n",
       "    </tr>\n",
       "  </tbody>\n",
       "</table>\n",
       "</div>"
      ],
      "text/plain": [
       "  new_Rating                 new_Title  Rank\n",
       "0      \n",
       "9.2\n",
       "  The Shawshank Redemption     0\n",
       "1      \n",
       "9.1\n",
       "             The Godfather     1\n",
       "2      \n",
       "9.0\n",
       "    The Godfather: Part II     2\n",
       "3      \n",
       "9.0\n",
       "           The Dark Knight     3\n",
       "4      \n",
       "8.9\n",
       "                 Angry Men     4"
      ]
     },
     "execution_count": 21,
     "metadata": {},
     "output_type": "execute_result"
    }
   ],
   "source": [
    "df.head()"
   ]
  },
  {
   "cell_type": "code",
   "execution_count": 22,
   "metadata": {},
   "outputs": [],
   "source": [
    "column_names=['Rank','new_Title','new_Rating']\n",
    "df = df.reindex(columns=column_names)"
   ]
  },
  {
   "cell_type": "code",
   "execution_count": 24,
   "metadata": {},
   "outputs": [],
   "source": [
    "df[\"new_Rating\"]=df.new_Rating.astype(\"float64\")"
   ]
  },
  {
   "cell_type": "code",
   "execution_count": 25,
   "metadata": {},
   "outputs": [],
   "source": [
    "df.to_csv(\"imdb.csv\",  encoding='utf-8')"
   ]
  },
  {
   "cell_type": "code",
   "execution_count": null,
   "metadata": {},
   "outputs": [],
   "source": []
  },
  {
   "cell_type": "code",
   "execution_count": null,
   "metadata": {},
   "outputs": [],
   "source": []
  }
 ],
 "metadata": {
  "kernelspec": {
   "display_name": "Python 3",
   "language": "python",
   "name": "python3"
  },
  "language_info": {
   "codemirror_mode": {
    "name": "ipython",
    "version": 3
   },
   "file_extension": ".py",
   "mimetype": "text/x-python",
   "name": "python",
   "nbconvert_exporter": "python",
   "pygments_lexer": "ipython3",
   "version": "3.7.7"
  }
 },
 "nbformat": 4,
 "nbformat_minor": 4
}
