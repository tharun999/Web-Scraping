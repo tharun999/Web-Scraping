{
 "cells": [
  {
   "cell_type": "code",
   "execution_count": 1,
   "metadata": {},
   "outputs": [],
   "source": [
    "from bs4 import BeautifulSoup as soup"
   ]
  },
  {
   "cell_type": "code",
   "execution_count": 2,
   "metadata": {},
   "outputs": [],
   "source": [
    "from urllib.request import urlopen as ureq"
   ]
  },
  {
   "cell_type": "code",
   "execution_count": 3,
   "metadata": {},
   "outputs": [],
   "source": [
    "url='https://www.imdb.com/india/top-rated-telugu-movies/?pf_rd_m=A2FGELUUNOQJNL&pf_rd_p=8a7876cd-2844-4017-846a-2c0876945b7b&pf_rd_r=EKZ6N4NQBS7YVMK5FSYF&pf_rd_s=right-5&pf_rd_t=15506&pf_rd_i=top&ref_=chttp_india_tr_rhs_4'"
   ]
  },
  {
   "cell_type": "code",
   "execution_count": 4,
   "metadata": {},
   "outputs": [],
   "source": [
    "uclient=ureq(url)"
   ]
  },
  {
   "cell_type": "code",
   "execution_count": 5,
   "metadata": {},
   "outputs": [],
   "source": [
    "page_html=uclient.read()"
   ]
  },
  {
   "cell_type": "code",
   "execution_count": 6,
   "metadata": {},
   "outputs": [],
   "source": [
    "uclient.close()"
   ]
  },
  {
   "cell_type": "code",
   "execution_count": 7,
   "metadata": {},
   "outputs": [],
   "source": [
    "page=soup(page_html,\"html.parser\")\n",
    "\n"
   ]
  },
  {
   "cell_type": "code",
   "execution_count": 8,
   "metadata": {},
   "outputs": [],
   "source": [
    "container=page.findAll(\"tbody\",{\"class\":\"lister-list\"})[0].findAll('tr')\n"
   ]
  },
  {
   "cell_type": "code",
   "execution_count": 9,
   "metadata": {},
   "outputs": [
    {
     "name": "stdout",
     "output_type": "stream",
     "text": [
      "50\n"
     ]
    }
   ],
   "source": [
    "print(len(container))"
   ]
  },
  {
   "cell_type": "code",
   "execution_count": 10,
   "metadata": {},
   "outputs": [
    {
     "data": {
      "text/plain": [
       "<tr>\n",
       "<td class=\"posterColumn\">\n",
       "<span data-value=\"1\" name=\"rk\"></span>\n",
       "<span data-value=\"8.398630080704715\" name=\"ir\"></span>\n",
       "<span data-value=\"-4.028832E11\" name=\"us\"></span>\n",
       "<span data-value=\"3504\" name=\"nv\"></span>\n",
       "<span data-value=\"-2.6013699192952853\" name=\"ur\"></span>\n",
       "<a href=\"/title/tt0249795/\"> <img alt=\"Maya Bazaar\" height=\"67\" src=\"https://m.media-amazon.com/images/M/MV5BMmQwNjExNzctMGE1NC00NGU2LWEwN2ItMzljZmU4ODk5ZGRmXkEyXkFqcGdeQXVyMzA0NTI2OTM@._V1_UY67_CR1,0,45,67_AL_.jpg\" width=\"45\"/>\n",
       "</a> </td>\n",
       "<td class=\"titleColumn\">\n",
       "      1.\n",
       "      <a href=\"/title/tt0249795/\" title=\"Kadiri Venkata Reddy (dir.), Taraka Rama Rao Nandamuri, S.V. Ranga Rao\">Maya Bazaar</a>\n",
       "<span class=\"secondaryInfo\">(1957)</span>\n",
       "</td>\n",
       "<td class=\"ratingColumn imdbRating\">\n",
       "<strong title=\"8.4 based on 3,504 user ratings\">8.4</strong>\n",
       "</td>\n",
       "<td class=\"ratingColumn\">\n",
       "<div class=\"seen-widget seen-widget-tt0249795 pending\" data-titleid=\"tt0249795\">\n",
       "<div class=\"boundary\">\n",
       "<div class=\"popover\">\n",
       "<span class=\"delete\"> </span><ol><li>1<li>2<li>3<li>4<li>5<li>6<li>7<li>8<li>9<li>10</li></li></li></li></li></li></li></li></li></li></ol> </div>\n",
       "</div>\n",
       "<div class=\"inline\">\n",
       "<div class=\"pending\"></div>\n",
       "<div class=\"unseeable\">NOT YET RELEASED</div>\n",
       "<div class=\"unseen\"> </div>\n",
       "<div class=\"rating\"></div>\n",
       "<div class=\"seen\">Seen</div>\n",
       "</div>\n",
       "</div>\n",
       "</td>\n",
       "<td class=\"watchlistColumn\">\n",
       "<div class=\"wlb_ribbon\" data-recordmetrics=\"true\" data-tconst=\"tt0249795\"></div>\n",
       "</td>\n",
       "</tr>"
      ]
     },
     "execution_count": 10,
     "metadata": {},
     "output_type": "execute_result"
    }
   ],
   "source": [
    "container[0]"
   ]
  },
  {
   "cell_type": "code",
   "execution_count": 11,
   "metadata": {},
   "outputs": [],
   "source": [
    "file=\"IMDB_Telugu.csv\""
   ]
  },
  {
   "cell_type": "code",
   "execution_count": 12,
   "metadata": {},
   "outputs": [],
   "source": [
    "f=open(file,\"w\")"
   ]
  },
  {
   "cell_type": "code",
   "execution_count": 13,
   "metadata": {},
   "outputs": [],
   "source": [
    "headers=\"Rank,Name,Year,Rating\\n\""
   ]
  },
  {
   "cell_type": "code",
   "execution_count": 14,
   "metadata": {},
   "outputs": [
    {
     "data": {
      "text/plain": [
       "22"
      ]
     },
     "execution_count": 14,
     "metadata": {},
     "output_type": "execute_result"
    }
   ],
   "source": [
    "f.write(headers)"
   ]
  },
  {
   "cell_type": "code",
   "execution_count": 15,
   "metadata": {},
   "outputs": [],
   "source": [
    "i=1\n",
    "import re "
   ]
  },
  {
   "cell_type": "code",
   "execution_count": 16,
   "metadata": {},
   "outputs": [
    {
     "name": "stdout",
     "output_type": "stream",
     "text": [
      "Rank : 1 Name :  Maya Bazaar Year : 1957 rating : 8.4\n",
      "Rank : 2 Name :  Aha Naa Pellanta Year : 1987 rating : 8.2\n",
      "Rank : 3 Name :  C/o Kancharapalem Year : 2018 rating : 8.2\n",
      "Rank : 4 Name :  Nuvvu Naaku Nachchav Year : 2001 rating : 8.2\n",
      "Rank : 5 Name :  Sagara Sangamam Year : 1983 rating : 8.2\n",
      "Rank : 6 Name :  Jersey Year : 2019 rating : 8.1\n",
      "Rank : 7 Name :  Mahanati Year : 2018 rating : 8.1\n",
      "Rank : 8 Name :  Agent Sai Srinivasa Athreya Year : 2019 rating : 8.1\n",
      "Rank : 9 Name :  Aa Naluguru Year : 2004 rating : 8.0\n",
      "Rank : 10 Name :  Bommarillu Year : 2006 rating : 8.0\n",
      "Rank : 11 Name :  Baahubali 2: The Conclusion Year : 2017 rating : 8.0\n",
      "Rank : 12 Name :  Sankarabharanam Year : 1980 rating : 8.0\n",
      "Rank : 13 Name :  Athadu Year : 2005 rating : 8.0\n",
      "Rank : 14 Name :  Kshanam Year : 2016 rating : 8.0\n",
      "Rank : 15 Name :  Pelli Choopulu Year : 2016 rating : 7.9\n",
      "Rank : 16 Name :  Arjun Reddy Year : 2017 rating : 7.9\n",
      "Rank : 17 Name :  Manmadhudu Year : 2002 rating : 7.9\n",
      "Rank : 18 Name :  Gamyam Year : 2008 rating : 7.9\n",
      "Rank : 19 Name :  Gundamma Katha Year : 1962 rating : 7.9\n",
      "Rank : 20 Name :  Drushyam Year : 2014 rating : 7.9\n",
      "Rank : 21 Name :  Prasthanam Year : 2010 rating : 7.9\n",
      "Rank : 22 Name :  Rangasthalam Year : 2018 rating : 7.9\n",
      "Rank : 23 Name :  Vedam Year : 2010 rating : 7.9\n",
      "Rank : 24 Name :  Aditya 369 Year : 1991 rating : 7.9\n",
      "Rank : 25 Name :  Bahubali: The Beginning Year : 2015 rating : 7.8\n",
      "Rank : 26 Name :  Gitanjali Year : 1989 rating : 7.8\n",
      "Rank : 27 Name :  Rudra Veena Year : 1988 rating : 7.8\n",
      "Rank : 28 Name :  Evaru Year : 2019 rating : 7.8\n",
      "Rank : 29 Name :  Shiva Year : 1989 rating : 7.8\n",
      "Rank : 30 Name :  Manam Year : 2014 rating : 7.8\n",
      "Rank : 31 Name :  Leader Year : 2010 rating : 7.8\n",
      "Rank : 32 Name :  Okkadu Year : 2003 rating : 7.8\n",
      "Rank : 33 Name :  Oopiri Year : 2016 rating : 7.7\n",
      "Rank : 34 Name :  Tholi Prema Year : 1998 rating : 7.7\n",
      "Rank : 35 Name :  Kshana Kshanam Year : 1991 rating : 7.7\n",
      "Rank : 36 Name :  Happy Days Year : 2007 rating : 7.7\n",
      "Rank : 37 Name :  Pokiri Year : 2006 rating : 7.7\n",
      "Rank : 38 Name :  Arya Year : 2004 rating : 7.7\n",
      "Rank : 39 Name :  Jamba Lakidi Pamba Year : 1993 rating : 7.6\n",
      "Rank : 40 Name :  Brochevarevarura Year : 2019 rating : 7.6\n",
      "Rank : 41 Name :  Missamma Year : 1955 rating : 7.6\n",
      "Rank : 42 Name :  Eega Year : 2012 rating : 7.6\n",
      "Rank : 43 Name :  Kick Year : 2009 rating : 7.6\n",
      "Rank : 44 Name :  Khushi Year : 2001 rating : 7.6\n",
      "Rank : 45 Name :  Aithe Year : 2003 rating : 7.6\n",
      "Rank : 46 Name :  Goodachari Year : 2018 rating : 7.6\n",
      "Rank : 47 Name :  Anukokunda Oka Roju Year : 2005 rating : 7.6\n",
      "Rank : 48 Name :  Annamayya Year : 1997 rating : 7.6\n",
      "Rank : 49 Name :  Kanche Year : 2015 rating : 7.6\n",
      "Rank : 50 Name :  Mathu Vadalara Year : 2019 rating : 7.6\n"
     ]
    }
   ],
   "source": [
    "for cont in container:\n",
    "    Rank=i\n",
    "    Name=cont.findAll(\"td\",{\"class\":\"titleColumn\"})[0].findAll(\"a\")\n",
    "    Name=re.sub('^[^a-z,A-Z]',\" \",str(Name).strip(']') )\n",
    "    Name=re.sub(\"[,<\\(\\[].*?[\\)>]\", \"\", str(Name))\n",
    "    year=cont.findAll(\"span\",{\"class\":\"secondaryInfo\"})[0].text\n",
    "    IMDB_rating=cont.findAll(\"td\",{\"class\":\"ratingColumn imdbRating\"})[0].text\n",
    "    print(\"Rank :\",Rank,\"Name :\",Name,\"Year :\",year.strip(\"()\"),\"rating :\",IMDB_rating.strip(\"\\n\").rstrip())\n",
    "    \n",
    "    i+=1\n",
    "\n",
    "    f.write(str(Rank)+\",\"+Name+\",\"+year.strip(\"-\")+\",\"+IMDB_rating.strip(\"\\n\")+\"\\n\")"
   ]
  },
  {
   "cell_type": "code",
   "execution_count": 17,
   "metadata": {},
   "outputs": [],
   "source": [
    "f.close()"
   ]
  },
  {
   "cell_type": "code",
   "execution_count": null,
   "metadata": {},
   "outputs": [],
   "source": []
  },
  {
   "cell_type": "code",
   "execution_count": null,
   "metadata": {},
   "outputs": [],
   "source": []
  },
  {
   "cell_type": "code",
   "execution_count": null,
   "metadata": {},
   "outputs": [],
   "source": []
  },
  {
   "cell_type": "code",
   "execution_count": null,
   "metadata": {},
   "outputs": [],
   "source": []
  },
  {
   "cell_type": "code",
   "execution_count": null,
   "metadata": {},
   "outputs": [],
   "source": []
  }
 ],
 "metadata": {
  "kernelspec": {
   "display_name": "Python 3",
   "language": "python",
   "name": "python3"
  },
  "language_info": {
   "codemirror_mode": {
    "name": "ipython",
    "version": 3
   },
   "file_extension": ".py",
   "mimetype": "text/x-python",
   "name": "python",
   "nbconvert_exporter": "python",
   "pygments_lexer": "ipython3",
   "version": "3.7.4"
  }
 },
 "nbformat": 4,
 "nbformat_minor": 4
}
